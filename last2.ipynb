{
 "cells": [
  {
   "cell_type": "markdown",
   "id": "391e470f",
   "metadata": {},
   "source": [
    "# Warmup-2 > last2"
   ]
  },
  {
   "cell_type": "markdown",
   "id": "5d61523f",
   "metadata": {},
   "source": [
    "Given a string, return the count of the number of times that a substring length 2 appears in the string and also as the last 2 chars of the string, so \"hixxxhi\" yields 1 (we won't count the end substring).\n",
    "\n",
    "\n",
    "last2('hixxhi') → 1\n",
    "last2('xaxxaxaxx') → 1\n",
    "last2('axxxaaxx') → 2"
   ]
  },
  {
   "cell_type": "code",
   "execution_count": 1,
   "id": "a596f7d6",
   "metadata": {},
   "outputs": [],
   "source": [
    "def last2(str):\n",
    "  \n",
    "  i = 0\n",
    "  count = 0\n",
    "  key = str[-1:-3:-1][::-1]\n",
    "  \n",
    "  while i < len(str)-1:\n",
    "    if str[i:i+2] == key:\n",
    "      count+=1\n",
    "      i+=1\n",
    "    else:\n",
    "      i+=1\n",
    "      pass\n",
    "    \n",
    "  if count ==0:\n",
    "    return count\n",
    "  else:\n",
    "    return count-1"
   ]
  }
 ],
 "metadata": {
  "kernelspec": {
   "display_name": "Python 3 (ipykernel)",
   "language": "python",
   "name": "python3"
  },
  "language_info": {
   "codemirror_mode": {
    "name": "ipython",
    "version": 3
   },
   "file_extension": ".py",
   "mimetype": "text/x-python",
   "name": "python",
   "nbconvert_exporter": "python",
   "pygments_lexer": "ipython3",
   "version": "3.9.12"
  }
 },
 "nbformat": 4,
 "nbformat_minor": 5
}
